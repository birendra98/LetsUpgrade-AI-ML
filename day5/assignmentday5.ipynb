{
 "cells": [
  {
   "cell_type": "markdown",
   "metadata": {},
   "source": [
    "# Question 1 :\n",
    "Write a Python program to find the first 20 non-even prime natural numbers."
   ]
  },
  {
   "cell_type": "code",
   "execution_count": 7,
   "metadata": {},
   "outputs": [
    {
     "name": "stdout",
     "output_type": "stream",
     "text": [
      "3 5 7 11 13 17 19 23 29 31 37 41 43 47 53 59 61 67 71 73 79 83 89 97 "
     ]
    }
   ],
   "source": [
    "r=100\n",
    "for a in range(2,r+1):  \n",
    "    k=0  \n",
    "    for i in range(2,a//2+1):  \n",
    "        if(a%i==0):  \n",
    "            k=k+1  \n",
    "    if(k<=0) and a%2!=0:\n",
    "        print(a,end=\" \")  "
   ]
  },
  {
   "cell_type": "markdown",
   "metadata": {},
   "source": [
    "# Question 2 :\n",
    "Write a Python program to implement 15 functions of string."
   ]
  },
  {
   "cell_type": "code",
   "execution_count": 10,
   "metadata": {},
   "outputs": [
    {
     "name": "stdout",
     "output_type": "stream",
     "text": [
      "Hello there i am guy\n",
      "12\n",
      "2\n",
      "0\n",
      "False\n",
      "False\n",
      "True\n",
      "False\n",
      "False\n",
      "HELLO THERE I AM GUY\n",
      "hello there i am guyI am viren\n",
      "hello there i am guyhello there i am guyhello there i am guy\n",
      "hello there i am gue\n",
      "True\n",
      "Hhello there i am guyihello there i am guyihello there i am guy hello there i am guythello there i am guyhhello there i am guyehello there i am guyrhello there i am guye\n"
     ]
    }
   ],
   "source": [
    "a=\"hello there i am guy\"\n",
    "print(a.capitalize())\n",
    "print(a.find(\"i\"))\n",
    "print(a.count(\"h\"))\n",
    "print(a.index(\"h\"))\n",
    "print(a.isalpha())\n",
    "print(a.isalnum())\n",
    "print(a.islower())\n",
    "print(a.isupper())\n",
    "print(a.isspace())\n",
    "print(a.upper())\n",
    "print(a+\"I am viren\")\n",
    "print(a*3)\n",
    "print(a.replace(\"y\",\"e\"))\n",
    "print(a.isprintable())\n",
    "print(a.join(\"Hii there\"))\n"
   ]
  },
  {
   "cell_type": "markdown",
   "metadata": {},
   "source": [
    "# Question 3:\n",
    "Write a Python program to check if the given string is a Palindrome or Anagram or None of them.\n",
    "Display the message accordingly to the user."
   ]
  },
  {
   "cell_type": "code",
   "execution_count": 4,
   "metadata": {},
   "outputs": [
    {
     "name": "stdout",
     "output_type": "stream",
     "text": [
      "Enter a 1st string abc\n",
      "Enter a 2nd string bca\n",
      "Anagram\n"
     ]
    }
   ],
   "source": [
    "a=input(\"Enter a 1st string \")\n",
    "b=input(\"Enter a 2nd string \")\n",
    "if(b[::-1]==a):\n",
    "    print(\"Palindrome\")\n",
    "elif(sorted(b)==sorted(a)):\n",
    "    print(\"Anagram\")\n",
    "else:\n",
    "    print(\"None\")"
   ]
  },
  {
   "cell_type": "markdown",
   "metadata": {},
   "source": [
    "# Question 4:\n",
    "Write a Python's user defined function that removes all the additional characters from the string\n",
    "and converts it finally to lower case using built-in lower(). eg: If the string is \"Dr. Darshan Ingle\n",
    "@AI-ML Trainer\", then the output be \"drdarshaningleaimltrainer\"."
   ]
  },
  {
   "cell_type": "code",
   "execution_count": 2,
   "metadata": {},
   "outputs": [],
   "source": [
    "def removess():\n",
    "    a=input()\n",
    "    a=a.lower()\n",
    "    for i in a:\n",
    "        if i.isdigit() or (ord(i)>=96 and ord(i)<=122):\n",
    "            print(i, end=\"\")"
   ]
  },
  {
   "cell_type": "code",
   "execution_count": 3,
   "metadata": {},
   "outputs": [
    {
     "name": "stdout",
     "output_type": "stream",
     "text": [
      "Dr. Darshan Ingle @AI-ML Trainer\n",
      "drdarshaningleaimltrainer"
     ]
    }
   ],
   "source": [
    "removess()"
   ]
  },
  {
   "cell_type": "code",
   "execution_count": null,
   "metadata": {},
   "outputs": [],
   "source": []
  }
 ],
 "metadata": {
  "kernelspec": {
   "display_name": "Python 3",
   "language": "python",
   "name": "python3"
  },
  "language_info": {
   "codemirror_mode": {
    "name": "ipython",
    "version": 3
   },
   "file_extension": ".py",
   "mimetype": "text/x-python",
   "name": "python",
   "nbconvert_exporter": "python",
   "pygments_lexer": "ipython3",
   "version": "3.7.6"
  }
 },
 "nbformat": 4,
 "nbformat_minor": 4
}
